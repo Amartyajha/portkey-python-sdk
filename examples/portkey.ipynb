{
 "cells": [
  {
   "cell_type": "code",
   "execution_count": null,
   "metadata": {
    "id": "5Z933R9wuZ4z"
   },
   "outputs": [],
   "source": [
    "# Installing the Portkey AI gateway developed by the Portkey team\n",
    "!pip install portkey-ai\n",
    "\n",
    "from portkey import Portkey, LLMBase, Message, DefaultParams"
   ]
  },
  {
   "cell_type": "code",
   "execution_count": null,
   "metadata": {
    "id": "Vd7elJZHu_jF"
   },
   "outputs": [],
   "source": [
    "import os\n",
    "\n",
    "os.environ[\"PORTKEY_API_KEY\"] = \"\"\n",
    "os.environ[\"OPENAI_API_KEY\"] = \"\"\n",
    "os.environ[\"ANTHROPIC_API_KEY\"] = \"\""
   ]
  },
  {
   "cell_type": "code",
   "execution_count": null,
   "metadata": {
    "id": "3GfyFAjYvlgg"
   },
   "outputs": [],
   "source": [
    "metadata = {\n",
    "    \"_environment\": \"production\",\n",
    "    \"_prompt\": \"test\",\n",
    "    \"_user\": \"user\",\n",
    "    \"_organisation\": \"acme\",\n",
    "}\n",
    "\n",
    "messages = [\n",
    "    Message(role=\"system\", content=\"You are a helpful assistant\"),\n",
    "    Message(role=\"user\", content=\"What can you do?\"),\n",
    "]\n",
    "\n",
    "pk_llm = Portkey(default_params=DefaultParams(\n",
    "    metadata=metadata,\n",
    "    max_tokens=50,\n",
    "    stream=True,\n",
    "    messages=messages\n",
    "))\n"
   ]
  },
  {
   "cell_type": "code",
   "execution_count": null,
   "metadata": {
    "id": "4D5p-B7hv_Xm"
   },
   "outputs": [],
   "source": [
    "openai_llm = LLMBase(provider=\"openai\", model=\"gpt-3.5-turbo\")\n",
    "anthropic_llm = LLMBase(provider=\"anthropic\", model=\"claude-2\")"
   ]
  },
  {
   "cell_type": "markdown",
   "metadata": {},
   "source": []
  },
  {
   "cell_type": "code",
   "execution_count": null,
   "metadata": {
    "id": "pYpwURe5wakB"
   },
   "outputs": [],
   "source": [
    "# Fallback Scenario\n",
    "response = pk_llm.chat_completion.with_fallbacks(llms=[openai_llm], stream=True)\n",
    "for i in response:\n",
    "    print(i.choices[0].get(\"delta\", {}).get(\"content\"), end=\"\", flush=True)"
   ]
  },
  {
   "cell_type": "code",
   "execution_count": null,
   "metadata": {
    "id": "5V8xY7EtxGoG"
   },
   "outputs": [],
   "source": [
    "# LoadBalancing.\n",
    "llm1 = LLMBase(provider=\"anthropic\", model=\"claude-2\", weight=0.6)\n",
    "llm2 = LLMBase(provider=\"openai\", model=\"gpt-3.5-turbo\", weight=0.4)\n",
    "\n",
    "print(\"Testing Fallback & Retry functionality:\")\n",
    "response = pk_llm.chat_completion.with_loadbalancing(llms=[llm1, llm2], stream=True)\n",
    "for i in response:\n",
    "    print(i.choices[0].get(\"delta\", {}).get(\"content\"), end=\"\", flush=True)"
   ]
  }
 ],
 "metadata": {
  "colab": {
   "provenance": []
  },
  "kernelspec": {
   "display_name": "Python 3",
   "name": "python3"
  },
  "language_info": {
   "codemirror_mode": {
    "name": "ipython",
    "version": 3
   },
   "file_extension": ".py",
   "mimetype": "text/x-python",
   "name": "python",
   "nbconvert_exporter": "python",
   "pygments_lexer": "ipython3",
   "version": "3.10.2"
  }
 },
 "nbformat": 4,
 "nbformat_minor": 0
}
